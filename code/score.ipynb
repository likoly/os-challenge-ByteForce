{
 "cells": [
  {
   "cell_type": "code",
   "execution_count": 20,
   "metadata": {},
   "outputs": [],
   "source": [
    "class Data:\n",
    "    def __init__(self):\n",
    "        self.results = {\n",
    "            'array': [],\n",
    "            'heap': [],\n",
    "            'linked': [],\n",
    "            'none': []\n",
    "        }\n",
    "        self.averages = {\n",
    "            'array': 0,\n",
    "            'heap': 0,\n",
    "            'linked': 0,\n",
    "            'none': 0\n",
    "        }\n",
    "\n",
    "    def calculate_averages(self):\n",
    "        # Calculate the average for each category in `values` and store in `averages`\n",
    "        for key, runs in self.results.items():\n",
    "            if runs:\n",
    "                self.averages[key] = sum(runs) / len(runs)\n",
    "            else:\n",
    "                self.averages[key] = 0  # Handle empty lists to avoid division by zero\n",
    "    # def print_averages(self):\n",
    "    #     for key,average in self.averages.items():\n",
    "            \n",
    "    def __iter__(self):\n",
    "        # Returns an iterator over all categories in `values`\n",
    "        return iter(self.results.items())"
   ]
  },
  {
   "cell_type": "code",
   "execution_count": 21,
   "metadata": {},
   "outputs": [
    {
     "name": "stdout",
     "output_type": "stream",
     "text": [
      "{'array': [83522363, 76805179], 'heap': [243239914, 96671716], 'linked': [259687934], 'none': [155963150]}\n"
     ]
    }
   ],
   "source": [
    "import pandas as pd\n",
    "\n",
    "# Load the CSV file into a DataFrame\n",
    "df = pd.read_csv('results.csv')\n",
    "\n",
    "# Initialize Data object (assuming the Data class is already defined)\n",
    "algorithms = Data()\n",
    "\n",
    "for index, row in df.iterrows():\n",
    "    algorithm_name = row['Algorithm']\n",
    "    \n",
    "    # Filter out any NaN values or empty strings from the run columns\n",
    "    runs = [int(run) for run in row[1:].tolist() if pd.notna(run) and str(run).strip()]\n",
    "\n",
    "    # Only add non-empty lists to algorithms.results\n",
    "    if runs:\n",
    "        algorithms.results[algorithm_name] = runs\n",
    "\n",
    "# Check the contents of algorithms.results\n",
    "print(algorithms.results)\n"
   ]
  },
  {
   "cell_type": "code",
   "execution_count": 22,
   "metadata": {},
   "outputs": [
    {
     "name": "stdout",
     "output_type": "stream",
     "text": [
      "1, array, 80163771.0\n",
      "2, none, 155963150.0\n",
      "3, heap, 169955815.0\n",
      "4, linked, 259687934.0\n"
     ]
    }
   ],
   "source": [
    "algorithms.calculate_averages()\n",
    "\n",
    "sorted_averages = sorted(algorithms.averages.items(), key=lambda x: x[1])\n",
    "\n",
    "# Format the sorted list as \"number, algorithm, run\"\n",
    "formatted_list = [f\"{index + 1}, {name}, {average}\" for index, (name, average) in enumerate(sorted_averages)]\n",
    "\n",
    "# Output the formatted list\n",
    "for item in formatted_list:\n",
    "    print(item)"
   ]
  },
  {
   "cell_type": "code",
   "execution_count": null,
   "metadata": {},
   "outputs": [],
   "source": []
  }
 ],
 "metadata": {
  "kernelspec": {
   "display_name": "Python 3",
   "language": "python",
   "name": "python3"
  },
  "language_info": {
   "codemirror_mode": {
    "name": "ipython",
    "version": 3
   },
   "file_extension": ".py",
   "mimetype": "text/x-python",
   "name": "python",
   "nbconvert_exporter": "python",
   "pygments_lexer": "ipython3",
   "version": "3.12.3"
  }
 },
 "nbformat": 4,
 "nbformat_minor": 2
}
